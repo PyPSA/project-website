{
 "cells": [
  {
   "cell_type": "code",
   "execution_count": null,
   "id": "1fff0e6d-3d12-45d3-9fa8-53fc1fba0467",
   "metadata": {},
   "outputs": [],
   "source": [
    "import numpy as np\n",
    "import pandas as pd\n",
    "import random as rd\n",
    "\n",
    "import os\n",
    "import matplotlib.pyplot as plt\n",
    "\n",
    "import matplotlib\n",
    "matplotlib.use('Agg')"
   ]
  },
  {
   "cell_type": "code",
   "execution_count": null,
   "id": "b3cb37e9-1c65-40ac-a896-666c8a090c15",
   "metadata": {},
   "outputs": [],
   "source": [
    "#%% linopy plot\n",
    "N = 8\n",
    "y1 = 8\n",
    "y2_ranges = [-3, 5]\n",
    "y2_array = np.append(np.arange(y2_ranges[0], y2_ranges[1],.3), np.arange(y2_ranges[1], y2_ranges[0],-.3))"
   ]
  },
  {
   "cell_type": "code",
   "execution_count": null,
   "id": "c080cdb7-8492-4db4-af0b-3f72ad2813bd",
   "metadata": {},
   "outputs": [],
   "source": [
    "count = 0\n",
    "y1 = 6\n",
    "for y2 in y2_array:\n",
    "    p = rd.random()\n",
    "    if p < .25:\n",
    "        y1 += rd.randint(-1,2)*.15\n",
    "    p = rd.random()\n",
    "    if p < .9:\n",
    "        y2 += rd.randint(-2,1)*.15\n",
    "    fig, ax = plt.subplots(figsize=(5,5))\n",
    "    ax.axis('off')\n",
    "    ax.set_aspect('equal', adjustable='box')\n",
    "    ax.set_xlim(0,N-1)\n",
    "    ax.set_ylim(0,N-1)\n",
    "\n",
    "    c = np.array([2,3])\n",
    "    x = np.array([2.5, 3])\n",
    "    carray = pd.DataFrame([[c @ np.array([x1,x2]) for x1 in range(N)]\n",
    "                           for x2 in range(N)])\n",
    "\n",
    "    ax.contourf(carray, levels=1000)\n",
    "    ax.fill_between(np.linspace(0, y1, N), np.linspace(6, 0, N), alpha=0.3, color='orange')\n",
    "    ax.fill_between(np.linspace(0, 5*(9+y2), N), np.linspace(0, 5*(4), N), alpha=0.2, color='red')\n",
    "\n",
    "    ax.plot(np.linspace(0, N, N), -6/y1*np.linspace(0, N, N)+6, color='white')\n",
    "    ax.plot(np.linspace(0, N, N), 4/(9+y2)*np.linspace(0, N, N), color='white')\n",
    "\n",
    "    x = 54*y1/(4*y1+54)\n",
    "    x = 6/((4/(9+y2)+6/y1))\n",
    "    ax.scatter(x, 4/(9+y2)*x, marker='8', color='white', zorder=8)\n",
    "\n",
    "    fig.savefig(f'../linopy-{count}.png', dpi=75, bbox_inches='tight')\n",
    "    print(f'linopy-{count}.png ({count+1}/{len(y2_array)})')\n",
    "    count += 1"
   ]
  },
  {
   "cell_type": "code",
   "execution_count": null,
   "id": "a004479c-a617-4a34-b23d-4e55fdaae98e",
   "metadata": {},
   "outputs": [],
   "source": [
    "from PIL import Image\n",
    "\n",
    "def gen_frame(path):\n",
    "    im = Image.open(path)\n",
    "    alpha = im.getchannel('A')\n",
    "\n",
    "    # Convert the image into P mode but only use 255 colors in the palette out of 256\n",
    "    im = im.convert('RGB').convert('P', palette=Image.ADAPTIVE, colors=255)\n",
    "\n",
    "    # Set all pixel values below 128 to 255 , and the rest to 0\n",
    "    mask = Image.eval(alpha, lambda a: 0 if a <=128 else 0)\n",
    "\n",
    "    # Paste the color of index 255 and use alpha as a mask\n",
    "    im.paste(0, mask)\n",
    "\n",
    "    # The transparency index is 255\n",
    "    im.info['transparency'] = 0\n",
    "    return im\n",
    "\n",
    "\n",
    "im1 = gen_frame('../linopy-0.png')\n",
    "append_images = np.append([f\"../linopy-{i}.png\" for i in range(1,count)],\n",
    "                          [f\"../linopy-{i}.png\" for i in range(count-1,0,-1)])\n",
    "\n",
    "im1.save('../gifs/linopy.gif', save_all=True, append_images=[gen_frame(append_images[i]) for i in range(len(append_images))],\n",
    "         disposal=2, loop=0, duration=50)\n",
    "im1.save('../linopy.png', save_all=False, append_images=[]);"
   ]
  },
  {
   "cell_type": "code",
   "execution_count": null,
   "id": "7dfac2f3-d516-46b2-8c37-316212135f6c",
   "metadata": {},
   "outputs": [],
   "source": [
    "# delete images...\n",
    "for file in [f\"../linopy-{i}.png\" for i in range(count)]:\n",
    "    os.remove(file) "
   ]
  },
  {
   "cell_type": "code",
   "execution_count": null,
   "id": "5b1bfa89-e835-4a3f-b677-1f859fd66538",
   "metadata": {},
   "outputs": [],
   "source": []
  },
  {
   "cell_type": "code",
   "execution_count": null,
   "id": "47f34044-be9e-456c-8830-4e639b89139a",
   "metadata": {},
   "outputs": [],
   "source": []
  }
 ],
 "metadata": {
  "kernelspec": {
   "display_name": "Python 3 (ipykernel)",
   "language": "python",
   "name": "python3"
  },
  "language_info": {
   "codemirror_mode": {
    "name": "ipython",
    "version": 3
   },
   "file_extension": ".py",
   "mimetype": "text/x-python",
   "name": "python",
   "nbconvert_exporter": "python",
   "pygments_lexer": "ipython3",
   "version": "3.9.7"
  }
 },
 "nbformat": 4,
 "nbformat_minor": 5
}
