{
 "cells": [
  {
   "cell_type": "code",
   "execution_count": null,
   "id": "c09ab054-feb9-4f8e-bc87-04b07af6f2e3",
   "metadata": {
    "tags": []
   },
   "outputs": [],
   "source": [
    "import os\n",
    "import numpy as np\n",
    "from scipy import fftpack\n",
    "import matplotlib.pyplot as plt\n",
    "import matplotlib as mpl\n",
    "from matplotlib import cm\n",
    "import pypsa\n",
    "\n",
    "from PIL import Image\n",
    "\n",
    "mpl.use('Agg')"
   ]
  },
  {
   "cell_type": "code",
   "execution_count": null,
   "id": "7e67613c-eecf-4538-99a0-196bd4243f78",
   "metadata": {},
   "outputs": [],
   "source": [
    "def colorFader(c1,c2,mix=0): #fade (linear interpolate) from color c1 (at mix=0) to c2 (mix=1)\n",
    "    c1=np.array(mpl.colors.to_rgb(c1))\n",
    "    c2=np.array(mpl.colors.to_rgb(c2))\n",
    "    return mpl.colors.to_hex((1-mix)*c1 + mix*c2)"
   ]
  },
  {
   "cell_type": "code",
   "execution_count": null,
   "id": "7ded4428-87f4-4d20-9b43-454890df2654",
   "metadata": {},
   "outputs": [],
   "source": [
    "#fig,ax=plt.subplots(figsize=(5,5))\n",
    "\n",
    "x = np.linspace(-10., 10., 2000)\n",
    "y = np.sin(x) * np.exp(-(x/5.0)**2)\n",
    "\n",
    "c1 = '#14a951'\n",
    "c2 = '#d9a717'\n",
    "c3 = '#258fb0'\n",
    "\n",
    "plt.scatter(x,y, s=1, color=[colorFader(c2,c3,mix=h) for h in np.arange(0,1,1/2000)], zorder=8)\n",
    "plt.scatter([-10, 10], [1e-2,-1e-2], s=50, color=[c2, c3])"
   ]
  },
  {
   "cell_type": "code",
   "execution_count": null,
   "id": "86502f3c-cafc-42dd-a073-70adcbe34714",
   "metadata": {},
   "outputs": [],
   "source": [
    "framewidth=500\n",
    "stepsize=50\n",
    "\n",
    "color_left = c2\n",
    "\n",
    "imname = 0\n",
    "for c2 in ['#258fb0']:\n",
    "    for i in range(0,1):\n",
    "        fig,ax=plt.subplots()\n",
    "        ax.axis('off')\n",
    "    \n",
    "        plt.plot(x,y,linewidth=.5, color='#c81952', zorder=0)    \n",
    "        plt.scatter([-10, 10], [1e-2,-1e-2], s=50, color=[color_left, c2])\n",
    "    \n",
    "        plt.savefig(f'../header-{imname}.png', bbox_inches='tight')\n",
    "        imname += 1\n",
    "             \n",
    "    for i in range(-framewidth,2000+framewidth,stepsize):\n",
    "        \n",
    "        start = i\n",
    "        end = i+framewidth\n",
    "        if start<0: start=0\n",
    "        if end>2000: end=2000\n",
    "        \n",
    "        framesize = len(x[start:end])\n",
    "        \n",
    "        fig,ax=plt.subplots()\n",
    "        ax.axis('off')\n",
    "    \n",
    "        plt.plot(x,y,linewidth=.5, color='#c81952', zorder=0)\n",
    "    \n",
    "        color=[colorFader(color_left, c2, mix=h) for h in np.arange(start, end)/(2000+2*framewidth)]\n",
    "    \n",
    "        ax.scatter(x[start:end], y[start:end], color=color, zorder=8)\n",
    "        plt.scatter([-10, 10], [1e-2,-1e-2], s=50, color=[color_left, c2])\n",
    "    \n",
    "        plt.savefig(f'../header-{imname}.png', bbox_inches='tight')\n",
    "        imname += 1\n",
    "    \n",
    "#plt.show()"
   ]
  },
  {
   "cell_type": "code",
   "execution_count": null,
   "id": "e7ff2caa-646a-4f76-8441-a9e7bca67e17",
   "metadata": {},
   "outputs": [],
   "source": [
    "def gen_frame(path):\n",
    "    im = Image.open(path)\n",
    "    alpha = im.getchannel('A')\n",
    "\n",
    "    # Convert the image into P mode but only use 255 colors in the palette out of 256\n",
    "    im = im.convert('RGB').convert('P', palette=Image.ADAPTIVE, colors=255)\n",
    "\n",
    "    # Set all pixel values below 128 to 255 , and the rest to 0\n",
    "    mask = Image.eval(alpha, lambda a: 0 if a <=128 else 0)\n",
    "\n",
    "    # Paste the color of index 255 and use alpha as a mask\n",
    "    im.paste(0, mask)\n",
    "\n",
    "    # The transparency index is 255\n",
    "    im.info['transparency'] = 0\n",
    "    return im\n",
    "\n",
    "\n",
    "im1 = gen_frame('../header-0.png')\n",
    "append_images = [f\"../header-{i}.png\" for i in range(0,imname)]\n",
    "\n",
    "im1.save('../gifs/header-gif.gif', save_all=True, append_images=[gen_frame(append_images[i]) for i in range(len(append_images))],\n",
    "         disposal=2, duration=50)"
   ]
  },
  {
   "cell_type": "code",
   "execution_count": null,
   "id": "754d4fad-7634-4c63-a025-5f158b47d99d",
   "metadata": {},
   "outputs": [],
   "source": [
    "# delete images...\n",
    "for file in [f\"../header-{i}.png\" for i in range(0,imname)]:\n",
    "    os.remove(file)"
   ]
  },
  {
   "cell_type": "code",
   "execution_count": null,
   "id": "b6b869aa-108e-45a0-bed2-71db81c16f2f",
   "metadata": {},
   "outputs": [],
   "source": []
  }
 ],
 "metadata": {
  "kernelspec": {
   "display_name": "Python 3 (ipykernel)",
   "language": "python",
   "name": "python3"
  },
  "language_info": {
   "codemirror_mode": {
    "name": "ipython",
    "version": 3
   },
   "file_extension": ".py",
   "mimetype": "text/x-python",
   "name": "python",
   "nbconvert_exporter": "python",
   "pygments_lexer": "ipython3",
   "version": "3.9.7"
  }
 },
 "nbformat": 4,
 "nbformat_minor": 5
}
