{
 "cells": [
  {
   "cell_type": "code",
   "execution_count": null,
   "id": "c0241a98-d119-43ac-b8b8-a11dcd9c233c",
   "metadata": {},
   "outputs": [],
   "source": [
    "import powerplantmatching as pm\n",
    "import matplotlib.pyplot as plt\n",
    "import cartopy.crs as ccrs\n",
    "\n",
    "import matplotlib\n",
    "matplotlib.use('Agg')"
   ]
  },
  {
   "cell_type": "code",
   "execution_count": null,
   "id": "a8b602ef-a4f2-4fe1-8350-b13d3f26e378",
   "metadata": {},
   "outputs": [],
   "source": [
    "df_init = pm.powerplants()\n",
    "nuclear = df_init.query('Fueltype==\"Nuclear\"')\n",
    "df_init = df_init.query('Fueltype!=\"Nuclear\"')\n",
    "df_init = df_init.append(nuclear)"
   ]
  },
  {
   "cell_type": "code",
   "execution_count": null,
   "id": "3bd6c545-65aa-4ef8-9f15-973b4582723c",
   "metadata": {},
   "outputs": [],
   "source": [
    "#%% powerplantmatching plot\n",
    "stepsize=4;\n",
    "\n",
    "count = 0;\n",
    "for k in range(len(df_init)-len(nuclear), len(df_init), stepsize):\n",
    "        df = df_init[0:k]\n",
    "\n",
    "        df = df.powerplant.set_uncommon_fueltypes_to_other()\n",
    "        shown_fueltypes = df.Fueltype.unique()\n",
    "        df = df[df.lat.notnull()]\n",
    "        df = df.query('-10 <= lon <= 30').query('36 <= lat <= 70')\n",
    "\n",
    "        fig, ax = plt.subplots(figsize=(5,5), subplot_kw={\"projection\": ccrs.EqualEarth()})\n",
    "\n",
    "        scale=1e-2\n",
    "        ax.scatter(\n",
    "            df.lon,\n",
    "            df.lat,\n",
    "            s=df.Capacity * scale,\n",
    "            c=df.Fueltype.map(pm.get_config()[\"fuel_to_color\"]),\n",
    "            edgecolor=\"face\",\n",
    "            facecolor=\"face\",\n",
    "            alpha=1,\n",
    "            zorder=3,\n",
    "            transform=ccrs.PlateCarree(),\n",
    "        )\n",
    "        ax.scatter([-10, 40, -10, 40, -10], [36, 36, 70, 70, 36],\n",
    "                   transform=ccrs.PlateCarree(), color='white')\n",
    "        ax.coastlines(linewidth=0.3, zorder=1)\n",
    "        ax.spines['geo'].set_visible(False)\n",
    "\n",
    "        fig.savefig(f'../powerplantmatching-{count}.png', bbox_inches='tight', dpi=80)\n",
    "        print(f'powerplantmatching-{count}.png')\n",
    "        count += 1"
   ]
  },
  {
   "cell_type": "code",
   "execution_count": null,
   "id": "51a54466-2cb9-4b47-836d-0aabbe71f5ca",
   "metadata": {},
   "outputs": [],
   "source": [
    "from PIL import Image\n",
    "import numpy as np\n",
    "\n",
    "def gen_frame(path):\n",
    "    im = Image.open(path)\n",
    "    alpha = im.getchannel('A')\n",
    "\n",
    "    # Convert the image into P mode but only use 255 colors in the palette out of 256\n",
    "    im = im.convert('RGB').convert('P', palette=Image.ADAPTIVE, colors=255)\n",
    "\n",
    "    # Set all pixel values below 128 to 255 , and the rest to 0\n",
    "    mask = Image.eval(alpha, lambda a: 0 if a <=128 else 0)\n",
    "\n",
    "    # Paste the color of index 255 and use alpha as a mask\n",
    "    im.paste(0, mask)\n",
    "\n",
    "    # The transparency index is 255\n",
    "    im.info['transparency'] = 0\n",
    "    return im\n",
    "\n",
    "\n",
    "im1 = gen_frame(f'../powerplantmatching-{count-1}.png')\n",
    "append_images = np.append([f\"../powerplantmatching-{i}.png\" for i in range(count-1,-1,-1)],\n",
    "                          [f\"../powerplantmatching-{i}.png\" for i in range(0,count)])\n",
    "\n",
    "im1.save('../gifs/powerplantmatching.gif', save_all=True, append_images=[gen_frame(append_images[i]) for i in range(len(append_images))],\n",
    "         disposal=2, loop=0, duration=50)\n",
    "im1.save('../powerplantmatching.png', save_all=False, append_images=[],\n",
    "         disposal=2, duration=50)"
   ]
  },
  {
   "cell_type": "code",
   "execution_count": null,
   "id": "b9d1a45f-f3a5-44db-9018-c83b32256624",
   "metadata": {},
   "outputs": [],
   "source": [
    "# delete images...\n",
    "import os\n",
    "for file in [f\"../powerplantmatching-{i}.png\" for i in range(count)]:\n",
    "    os.remove(file) "
   ]
  },
  {
   "cell_type": "code",
   "execution_count": null,
   "id": "d96d09b8-64d3-4295-8a07-666847aeae4e",
   "metadata": {},
   "outputs": [],
   "source": []
  }
 ],
 "metadata": {
  "kernelspec": {
   "display_name": "Python 3 (ipykernel)",
   "language": "python",
   "name": "python3"
  },
  "language_info": {
   "codemirror_mode": {
    "name": "ipython",
    "version": 3
   },
   "file_extension": ".py",
   "mimetype": "text/x-python",
   "name": "python",
   "nbconvert_exporter": "python",
   "pygments_lexer": "ipython3",
   "version": "3.9.7"
  }
 },
 "nbformat": 4,
 "nbformat_minor": 5
}
