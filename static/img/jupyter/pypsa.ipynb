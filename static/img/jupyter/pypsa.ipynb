{
 "cells": [
  {
   "cell_type": "code",
   "execution_count": null,
   "id": "9fd599cc-04ca-48e1-ac73-bafd143408a0",
   "metadata": {},
   "outputs": [],
   "source": [
    "import os\n",
    "import pypsa\n",
    "\n",
    "import numpy as np\n",
    "import networkx as nx\n",
    "import pandas as pd\n",
    "import random as rd\n",
    "import cartopy.crs as ccrs\n",
    "import matplotlib.pyplot as plt\n",
    "\n",
    "from PIL import Image\n",
    "\n",
    "import matplotlib\n",
    "matplotlib.use('Agg')"
   ]
  },
  {
   "cell_type": "code",
   "execution_count": null,
   "id": "641a836d-5554-4df2-8bed-73e11d714328",
   "metadata": {},
   "outputs": [],
   "source": [
    "n = pypsa.examples.scigrid_de()\n",
    "#n.add(\"Carrier\", \"Start\")\n",
    "\n",
    "#n.generators=n.generators.drop(index=n.generators.index)\n",
    "    \n",
    "colors = {'Solar': '#f9d002',\n",
    "          'Wind Onshore': '#235ebc',\n",
    "          'Wind Offshore': '#6895dd',\n",
    "          'Battery': '#b8ea04',\n",
    "          'Pumped Hydro': '#ea048a',\n",
    "          'Storage Hydro': '#ea048a',\n",
    "          'Hard Coal': '#707070',\n",
    "          'Gas': '#23932d',\n",
    "          'Run of River': '#4adbc8',\n",
    "          'Waste': '#68896b',\n",
    "          'Brown Coal': '#9e5a01',\n",
    "          'Oil': '#262626',\n",
    "          'Other': '#68896b',\n",
    "          'Multiple': '#68896b',\n",
    "          'Nuclear': '#ff9000',\n",
    "          'Geothermal': '#ba91b1',\n",
    "          'Start' : 'cadetblue'}\n",
    "\n",
    "n.carriers.color = pd.Series(index=colors.keys(), data=colors.values())\n",
    "\n",
    "buses_i = n.buses.query(\"carrier == 'AC'\").index\n",
    "n.madd(\"Generator\", buses_i, \" Start\",\n",
    "       bus=buses_i, carrier='Start', p_nom=1e-4);"
   ]
  },
  {
   "cell_type": "code",
   "execution_count": null,
   "id": "be462ab6-478f-41ff-92e2-9735ceb038ee",
   "metadata": {},
   "outputs": [],
   "source": [
    "fig, ax = plt.subplots(figsize=(10,10))\n",
    "\n",
    "#make plot(s) evenly sized\n",
    "xmin = -.95; xmax = 1.05\n",
    "ymin = -.95; ymax = .85\n",
    "plt.plot([xmin, xmax, xmax, xmin, xmin], [ymin, ymin, ymax, ymax, ymin], 'o-', color='white', alpha=0)\n",
    "\n",
    "n.plot(geomap=False, layouter=nx.drawing.layout.kamada_kawai_layout,\n",
    "       bus_sizes=1e-4, line_widths=1, link_widths=1,\n",
    "       transformer_widths=1,\n",
    "       ax=ax)\n",
    "\n",
    "plt.savefig(f\"../pypsa.png\", bbox_inches='tight', dpi=50)\n",
    "\n",
    "plt.show()"
   ]
  },
  {
   "cell_type": "code",
   "execution_count": null,
   "id": "6dd7afe7-b37e-4e7e-b2c4-8704e74d4718",
   "metadata": {},
   "outputs": [],
   "source": [
    "RE = ['Solar', 'Wind Onshore', 'Wind Offshore', 'Pumped Hydro', 'Storage Hydro']\n",
    "\n",
    "bussizes_goal = n.generators.groupby(['bus', 'carrier']).sum().p_nom\n",
    "bussizes_goal = bussizes_goal.append(n.storage_units.groupby(['bus', 'carrier']).sum().p_nom)/1e6\n",
    "RE_idx = n.generators.query('carrier in @RE').groupby(['bus', 'carrier']).sum().index\n",
    "RE_idx = RE_idx.append(n.storage_units.query('carrier in @RE').groupby(['bus', 'carrier']).sum().index)\n",
    "bussizes_goal.loc[RE_idx]=0\n",
    "\n",
    "bussizes_start = n.generators.groupby(['bus', 'carrier']).sum().p_nom\n",
    "bussizes_start = bussizes_start.append(n.storage_units.groupby(['bus', 'carrier']).sum().p_nom)\n",
    "S_idx = n.generators.query('carrier != \"Start\"').groupby(['bus', 'carrier']).sum().index\n",
    "S_idx = S_idx.append(n.storage_units.query('carrier != \"Start\"').groupby(['bus', 'carrier']).sum().index)\n",
    "bussizes_start.loc[S_idx]=0\n",
    "\n",
    "linesizes_start = pd.Series(index=n.lines.index, data=1)\n",
    "linesizes_goal = n.lines.s_nom/5e3\n",
    "\n",
    "nframes_0 = 10"
   ]
  },
  {
   "cell_type": "code",
   "execution_count": null,
   "id": "71351308-4d1b-4896-98da-59270997baf8",
   "metadata": {},
   "outputs": [],
   "source": [
    "(n.lines.s_nom/1e3).min()"
   ]
  },
  {
   "cell_type": "code",
   "execution_count": null,
   "id": "d293232e-83be-4422-b963-dce789b281cb",
   "metadata": {},
   "outputs": [],
   "source": [
    "bussizes = bussizes_start\n",
    "linesizes = linesizes_start\n",
    "\n",
    "for i in range(nframes_0):\n",
    "    fig,ax = plt.subplots(subplot_kw={\"projection\":ccrs.PlateCarree()}, figsize=(10,10))\n",
    "    \n",
    "    #make plot(s) evenly sized\n",
    "    xmin = -.95; xmax = 1.05\n",
    "    ymin = -.95; ymax = .85\n",
    "    ax.plot([xmin, xmax, xmax, xmin, xmin], [ymin, ymin, ymax, ymax, ymin], 'o-', color='white', alpha=0)\n",
    "    \n",
    "    bussizes += (bussizes_goal-bussizes_start)/nframes_0\n",
    "    linesizes += (linesizes_goal-linesizes_start)/nframes_0\n",
    "        \n",
    "    n.plot(ax=ax, geomap=False, layouter=nx.drawing.layout.kamada_kawai_layout,\n",
    "           bus_sizes=bussizes, line_widths=linesizes)\n",
    "    \n",
    "    plt.savefig(f\"../pypsa-{i}.png\", bbox_inches='tight', dpi=50)\n",
    "    print(f\"pypsa-{i}.png ({i+1}/{nframes_0})\")\n",
    "\n",
    "#plt.show()"
   ]
  },
  {
   "cell_type": "code",
   "execution_count": null,
   "id": "0c38bd05-0a5c-4688-b723-8202c5aa9e76",
   "metadata": {},
   "outputs": [],
   "source": [
    "nframes_1 = 10\n",
    "\n",
    "bussizes_start = n.generators.groupby(['bus', 'carrier']).sum().p_nom\n",
    "bussizes_start = bussizes_start.append(n.storage_units.groupby(['bus', 'carrier']).sum().p_nom)/1e6\n",
    "RE_idx = n.generators.query('carrier in @RE').groupby(['bus', 'carrier']).sum().index\n",
    "RE_idx = RE_idx.append(n.storage_units.query('carrier in @RE').groupby(['bus', 'carrier']).sum().index)\n",
    "bussizes_start.loc[RE_idx]=0\n",
    "\n",
    "bussizes_goal = n.generators.groupby(['bus', 'carrier']).sum().p_nom\n",
    "bussizes_goal = bussizes_goal.append(n.storage_units.groupby(['bus', 'carrier']).sum().p_nom)/1e6\n",
    "CO_idx = n.generators.query('carrier not in @RE').groupby(['bus', 'carrier']).sum().index\n",
    "CO_idx = CO_idx.append(n.storage_units.query('carrier not in @RE').groupby(['bus', 'carrier']).sum().index)\n",
    "bussizes_goal.loc[CO_idx]=0\n",
    "\n",
    "linesizes_start = n.lines.s_nom/5e3\n",
    "linesizes_goal = n.lines.s_nom/5e2"
   ]
  },
  {
   "cell_type": "code",
   "execution_count": null,
   "id": "039e327d-bfff-47c4-b7f0-d89bb44982f3",
   "metadata": {},
   "outputs": [],
   "source": [
    "#bussizes = bussizes_start\n",
    "linesizes = linesizes_start\n",
    "\n",
    "for i in range(nframes_1):\n",
    "    fig,ax = plt.subplots(subplot_kw={\"projection\":ccrs.PlateCarree()}, figsize=(10,10))\n",
    "    \n",
    "    #make plot(s) evenly sized\n",
    "    xmin = -.95; xmax = 1.05\n",
    "    ymin = -.95; ymax = .85\n",
    "    ax.plot([xmin, xmax, xmax, xmin, xmin], [ymin, ymin, ymax, ymax, ymin], 'o-', color='white', alpha=0)\n",
    "    \n",
    "    bussizes += (bussizes_goal-bussizes_start)/nframes_1\n",
    "    linesizes += (linesizes_goal-linesizes_start)/nframes_1 + 0.25*(np.random.rand(1,len(linesizes))[0]-.5) #random noise from [-.25,.25)\n",
    "    \n",
    "    n.plot(ax=ax, geomap=False, layouter=nx.drawing.layout.kamada_kawai_layout,\n",
    "           bus_sizes=bussizes, line_widths=linesizes)\n",
    "    \n",
    "    plt.savefig(f\"../pypsa-{nframes_0+i}.png\", bbox_inches='tight', dpi=50)\n",
    "    print(f\"pypsa-{nframes_0+i}.png ({i+1}/{nframes_1})\")\n",
    "\n",
    "#plt.show()"
   ]
  },
  {
   "cell_type": "code",
   "execution_count": null,
   "id": "8fc6c3b4-a9ca-47a5-9818-19f1cd51beaa",
   "metadata": {},
   "outputs": [],
   "source": [
    "#[i for i in range(nframes_0+nframes_1)]\n",
    "#[i for i in range(10)]\n",
    "#[i for i in range(nframes_0+nframes_1-2, -1, -1)]"
   ]
  },
  {
   "cell_type": "code",
   "execution_count": null,
   "id": "77fb8b76-3e7e-4aa8-a218-40e403fc404d",
   "metadata": {},
   "outputs": [],
   "source": [
    "def gen_frame(path):\n",
    "    im = Image.open(path)\n",
    "    alpha = im.getchannel('A')\n",
    "\n",
    "    # Convert the image into P mode but only use 255 colors in the palette out of 256\n",
    "    im = im.convert('RGB').convert('P', palette=Image.ADAPTIVE, colors=255)\n",
    "\n",
    "    # Set all pixel values below 128 to 255 , and the rest to 0\n",
    "    mask = Image.eval(alpha, lambda a: 255 if a <=128 else 0)\n",
    "\n",
    "    # Paste the color of index 255 and use alpha as a mask\n",
    "    im.paste(255, mask)\n",
    "\n",
    "    # The transparency index is 255\n",
    "    im.info['transparency'] = 255\n",
    "    return im\n",
    "\n",
    "\n",
    "im1 = gen_frame('../pypsa.png')\n",
    "append_images = np.append([f\"../pypsa-{i}.png\" for i in range(nframes_0+nframes_1)],\n",
    "                          [f\"../pypsa-{nframes_0+nframes_1-1}.png\" for i in range(5)])\n",
    "append_images = np.append(append_images, [f\"../pypsa-{i}.png\" for i in range(nframes_0+nframes_1-2, -1, -1)])\n",
    "im1.save('../gifs/pypsa.gif', save_all=True, append_images=[gen_frame(append_images[i]) for i in range(len(append_images))],\n",
    "         disposal=2, loop=0, duration=150)\n",
    "im1.save('../pypsa.png', save_all=False, append_images=[])"
   ]
  },
  {
   "cell_type": "code",
   "execution_count": null,
   "id": "24384c40-79bf-4584-b13f-1cf53eef7613",
   "metadata": {},
   "outputs": [],
   "source": [
    "# delete images...\n",
    "for file in [f\"../pypsa-{i}.png\" for i in range(0,nframes_0+nframes_1)]:\n",
    "    os.remove(file) "
   ]
  },
  {
   "cell_type": "code",
   "execution_count": null,
   "id": "ea00dd64-d528-42bc-b3cb-c93703023607",
   "metadata": {},
   "outputs": [],
   "source": []
  }
 ],
 "metadata": {
  "kernelspec": {
   "display_name": "Python 3 (ipykernel)",
   "language": "python",
   "name": "python3"
  },
  "language_info": {
   "codemirror_mode": {
    "name": "ipython",
    "version": 3
   },
   "file_extension": ".py",
   "mimetype": "text/x-python",
   "name": "python",
   "nbconvert_exporter": "python",
   "pygments_lexer": "ipython3",
   "version": "3.9.7"
  }
 },
 "nbformat": 4,
 "nbformat_minor": 5
}
