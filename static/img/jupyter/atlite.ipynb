{
 "cells": [
  {
   "cell_type": "code",
   "execution_count": null,
   "id": "c9fef34d-03f6-446f-8717-daa1aaf954d6",
   "metadata": {},
   "outputs": [],
   "source": [
    "import os\n",
    "import imageio \n",
    "import matplotlib.pyplot as plt\n",
    "import cartopy.crs as ccrs\n",
    "import atlite\n",
    "import matplotlib as mpl\n",
    "import numpy as np\n",
    "\n",
    "from PIL import Image\n",
    "#mpl.use('Agg')"
   ]
  },
  {
   "cell_type": "code",
   "execution_count": null,
   "id": "e8e39d9c-34bb-4ebc-9dba-027a33dff2e2",
   "metadata": {},
   "outputs": [],
   "source": [
    "# %% atlite\n",
    "cutout = atlite.Cutout('global', x=slice(-180, 180), y=slice(-180, 180),\n",
    "                       time='2018-05-05', module='era5')\n",
    "cutout.prepare('wind')\n",
    "\n",
    "projection = ccrs.Orthographic(0, 30)"
   ]
  },
  {
   "cell_type": "code",
   "execution_count": null,
   "id": "1d025b71-b0c2-43cc-b4f3-24a6c8ab603c",
   "metadata": {},
   "outputs": [],
   "source": [
    "imname = 0\n",
    "where = range(0,24*5,2)\n",
    "for t in where:\n",
    "    fig, ax = plt.subplots(figsize=(5,5), subplot_kw={\"projection\": projection})\n",
    "    cutout.data.wnd100m.isel(time=t).plot(ax=ax,\n",
    "                                          transform=ccrs.PlateCarree(),\n",
    "                                          add_colorbar=False,\n",
    "                                          norm=mpl.colors.Normalize(vmin=0, vmax=20),\n",
    "                                          alpha=.3,\n",
    "                                          cmap='Blues',\n",
    "                                          zorder=5)\n",
    "    ax.coastlines(zorder=6, linewidth=0.5)\n",
    "    ax.set_title('')\n",
    "    ax.spines['geo'].set_visible(False)\n",
    "    print(str(t) + '/' + str(len(where)))\n",
    "    fig.savefig(f'../atlite-{imname}.png', bbox_inches='tight')\n",
    "    imname+=1"
   ]
  },
  {
   "cell_type": "code",
   "execution_count": null,
   "id": "cbd3f05f-27d9-4cf7-936d-7aef543ecad5",
   "metadata": {},
   "outputs": [],
   "source": [
    "def gen_frame(path):\n",
    "    im = Image.open(path)\n",
    "    alpha = im.getchannel('A')\n",
    "\n",
    "    # Convert the image into P mode but only use 255 colors in the palette out of 256\n",
    "    im = im.convert('RGB').convert('P', palette=Image.ADAPTIVE, colors=255)\n",
    "\n",
    "    # Set all pixel values below 128 to 255 , and the rest to 0\n",
    "    mask = Image.eval(alpha, lambda a: 255 if a <=128 else 0)\n",
    "\n",
    "    # Paste the color of index 255 and use alpha as a mask\n",
    "    im.paste(255, mask)\n",
    "\n",
    "    # The transparency index is 255\n",
    "    im.info['transparency'] = 255\n",
    "    return im\n",
    "\n",
    "\n",
    "im1 = gen_frame('../atlite-0.png')\n",
    "append_images = np.append([f\"../atlite-{i}.png\" for i in range(0,24)],\n",
    "                          [f\"../atlite-{i}.png\" for i in range(23,-1,-1)])\n",
    "im1.save('../gifs/atlite.gif', save_all=True, append_images=[gen_frame(append_images[i]) for i in range(len(append_images))],\n",
    "         disposal=2, loop=2, duration=100)\n",
    "im1.save('../atlite.png', save_all=False, append_images=[])"
   ]
  },
  {
   "cell_type": "code",
   "execution_count": null,
   "id": "e20a5962-aedb-4818-9ccb-54ac050aa233",
   "metadata": {},
   "outputs": [],
   "source": [
    "# Build GIF\n",
    "if 0:\n",
    "    with imageio.get_writer(f'img/martha/atlitegif.gif', mode='I') as writer:\n",
    "        #komplett hoch\n",
    "        for filename in [f\"img/martha/atlite-{i}.png\" for i in range(0,24)]:\n",
    "            image = imageio.imread(filename)\n",
    "            writer.append_data(image)\n",
    "        \n",
    "        #komplett runter\n",
    "        for filename in [f\"img/martha/atlite-{i}.png\" for i in range(23, -1, -1)]:\n",
    "            image = imageio.imread(filename)\n",
    "            writer.append_data(image)"
   ]
  },
  {
   "cell_type": "code",
   "execution_count": null,
   "id": "25806575-75a7-4c25-b94c-5c676c22613f",
   "metadata": {},
   "outputs": [],
   "source": [
    "# delete images...\n",
    "for file in [f\"img/martha/atlite-{i}.png\" for i in range(1,24)]:\n",
    "    os.remove(file) "
   ]
  },
  {
   "cell_type": "code",
   "execution_count": null,
   "id": "d5adf474-ad67-4086-93fb-2f89a4f9b2b0",
   "metadata": {},
   "outputs": [],
   "source": []
  }
 ],
 "metadata": {
  "kernelspec": {
   "display_name": "Python 3 (ipykernel)",
   "language": "python",
   "name": "python3"
  },
  "language_info": {
   "codemirror_mode": {
    "name": "ipython",
    "version": 3
   },
   "file_extension": ".py",
   "mimetype": "text/x-python",
   "name": "python",
   "nbconvert_exporter": "python",
   "pygments_lexer": "ipython3",
   "version": "3.9.7"
  }
 },
 "nbformat": 4,
 "nbformat_minor": 5
}
